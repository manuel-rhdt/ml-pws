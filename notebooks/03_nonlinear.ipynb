{
 "cells": [
  {
   "cell_type": "code",
   "execution_count": 41,
   "id": "6326bb71-897b-4315-937f-4f5862bc1c77",
   "metadata": {},
   "outputs": [],
   "source": [
    "import torch\n",
    "\n",
    "from matplotlib import pyplot as plt"
   ]
  },
  {
   "cell_type": "code",
   "execution_count": 2,
   "id": "91069310-ae32-4920-be30-eb8a8dcdded2",
   "metadata": {},
   "outputs": [
    {
     "name": "stdout",
     "output_type": "stream",
     "text": [
      "Using cuda device\n"
     ]
    }
   ],
   "source": [
    "# Get cpu, gpu or mps device for training.\n",
    "device = (\n",
    "    \"cuda\"\n",
    "    if torch.cuda.is_available()\n",
    "    else \"mps\"\n",
    "    if torch.backends.mps.is_available()\n",
    "    else \"cpu\"\n",
    ")\n",
    "print(f\"Using {device} device\")"
   ]
  },
  {
   "cell_type": "markdown",
   "id": "b0f13cf4-a555-49f8-8dfe-b96cdce93986",
   "metadata": {},
   "source": [
    "# Input model"
   ]
  },
  {
   "cell_type": "markdown",
   "id": "c7a7bc54-b060-4256-8f8c-c4a17472e5e5",
   "metadata": {},
   "source": [
    "We consider an input that evolves as an AR(1) model:\n",
    "$$\n",
    "S_t = \\phi S_{t-1} + \\sigma\\xi_t\n",
    "$$\n",
    "where $\\xi_t$ are iid random variables from a unit Gaussian distribution, and $\\phi, \\sigma$ are real parameters. The autocovariance is given by\n",
    "$$\n",
    "\\langle S_{\\tau} S_{\\tau + t} \\rangle = \\frac{\\sigma^2}{1 - \\phi^2} \\phi^{|t|}\n",
    "$$"
   ]
  },
  {
   "cell_type": "code",
   "execution_count": 21,
   "id": "d5717c2a-0bc8-49fd-a803-a606ac3ce10c",
   "metadata": {},
   "outputs": [],
   "source": [
    "def toeplitz(x, y):\n",
    "    N = len(x)\n",
    "    x_y = torch.cat((x, y[1:].flip(-1)), dim=-1)\n",
    "    result = torch.zeros((N, N))\n",
    "    for i in range(N):\n",
    "        result[i] = torch.roll(x_y, i, dims=-1)[:N]\n",
    "    return result"
   ]
  },
  {
   "cell_type": "code",
   "execution_count": 35,
   "id": "81df4d6f-6c43-4344-bdfd-4433e4bcaa94",
   "metadata": {},
   "outputs": [],
   "source": [
    "def ar_cov(t, phi, sigma):\n",
    "    return sigma**2 / (1.0 - phi**2) * phi**(torch.abs(t))"
   ]
  },
  {
   "cell_type": "code",
   "execution_count": 50,
   "id": "a25f857f-a2e1-4f69-b009-705f015a71d7",
   "metadata": {},
   "outputs": [],
   "source": [
    "t = torch.arange(0, 20)"
   ]
  },
  {
   "cell_type": "code",
   "execution_count": 58,
   "id": "cba7cedd-ace0-4741-8e59-c7e281f25c93",
   "metadata": {},
   "outputs": [
    {
     "data": {
      "text/plain": [
       "<matplotlib.image.AxesImage at 0x7fdba7251250>"
      ]
     },
     "execution_count": 58,
     "metadata": {},
     "output_type": "execute_result"
    },
    {
     "data": {
      "image/png": "[encoded data removed]",
      "text/plain": [
       "<Figure size 640x480 with 2 Axes>"
      ]
     },
     "metadata": {},
     "output_type": "display_data"
    }
   ],
   "source": [
    "s_cov = ar_cov(t, 0.5, 1.0)\n",
    "s_cov_mat = toeplitz(s_cov, s_cov)\n",
    "fig, (ax1, ax2) = plt.subplots(1, 2)\n",
    "ax1.plot(s_cov)\n",
    "ax2.imshow(s_cov_mat)"
   ]
  },
  {
   "cell_type": "code",
   "execution_count": 69,
   "id": "48dc665b-674e-4000-93ff-3d4df0cfd47e",
   "metadata": {},
   "outputs": [
    {
     "data": {
      "text/plain": [
       "tensor([[-1.5264, -1.2257, -0.8098,  ...,  0.6357, -0.8773, -0.1810],\n",
       "        [ 1.5907, -0.3000,  0.6788,  ..., -1.0993, -0.6416, -0.4175],\n",
       "        [ 1.0888,  1.1959,  1.3645,  ...,  0.7386,  2.0004, -0.0472],\n",
       "        ...,\n",
       "        [-0.3974,  0.6423, -1.8756,  ...,  0.2712,  0.4568,  0.4163],\n",
       "        [ 1.2706,  1.8115,  2.3464,  ..., -0.8356, -1.9428, -0.5567],\n",
       "        [ 1.8176,  1.7261,  0.6563,  ...,  1.4442,  0.8636,  1.6932]])"
      ]
     },
     "execution_count": 69,
     "metadata": {},
     "output_type": "execute_result"
    }
   ],
   "source": [
    "s_dist = torch.distributions.MultivariateNormal(torch.zeros(s_cov_mat.size(0)), s_cov_mat)\n",
    "s_dist.sample((1000,))"
   ]
  },
  {
   "cell_type": "code",
   "execution_count": null,
   "id": "e3ff67fa-726b-4056-89a3-9fb2eb7a3925",
   "metadata": {},
   "outputs": [],
   "source": []
  }
 ],
 "metadata": {
  "kernelspec": {
   "display_name": "Python 3.12 for ml-pws",
   "language": "python",
   "name": "ml-pws"
  },
  "language_info": {
   "codemirror_mode": {
    "name": "ipython",
    "version": 3
   },
   "file_extension": ".py",
   "mimetype": "text/x-python",
   "name": "python",
   "nbconvert_exporter": "python",
   "pygments_lexer": "ipython3",
   "version": "3.12.1"
  }
 },
 "nbformat": 4,
 "nbformat_minor": 5
}
